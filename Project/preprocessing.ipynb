{
 "cells": [
  {
   "cell_type": "code",
   "execution_count": 2,
   "metadata": {},
   "outputs": [],
   "source": [
    "import pandas as pd\n",
    "\n",
    "honey_production = pd.read_csv('./honeyProduction/US_honey_production_dataset.csv')"
   ]
  },
  {
   "cell_type": "code",
   "execution_count": 3,
   "metadata": {},
   "outputs": [
    {
     "data": {
      "text/html": [
       "<div>\n",
       "<style scoped>\n",
       "    .dataframe tbody tr th:only-of-type {\n",
       "        vertical-align: middle;\n",
       "    }\n",
       "\n",
       "    .dataframe tbody tr th {\n",
       "        vertical-align: top;\n",
       "    }\n",
       "\n",
       "    .dataframe thead th {\n",
       "        text-align: right;\n",
       "    }\n",
       "</style>\n",
       "<table border=\"1\" class=\"dataframe\">\n",
       "  <thead>\n",
       "    <tr style=\"text-align: right;\">\n",
       "      <th></th>\n",
       "      <th>Unnamed: 0</th>\n",
       "      <th>state</th>\n",
       "      <th>colony_number</th>\n",
       "      <th>yield_per_colony</th>\n",
       "      <th>productions</th>\n",
       "      <th>stocks</th>\n",
       "      <th>average_price</th>\n",
       "      <th>value_of_prod</th>\n",
       "      <th>year</th>\n",
       "    </tr>\n",
       "  </thead>\n",
       "  <tbody>\n",
       "    <tr>\n",
       "      <th>0</th>\n",
       "      <td>0</td>\n",
       "      <td>Alabama</td>\n",
       "      <td>9000</td>\n",
       "      <td>54</td>\n",
       "      <td>73000</td>\n",
       "      <td>73000</td>\n",
       "      <td>240.0</td>\n",
       "      <td>1166000</td>\n",
       "      <td>2010</td>\n",
       "    </tr>\n",
       "    <tr>\n",
       "      <th>1</th>\n",
       "      <td>1</td>\n",
       "      <td>Arizona</td>\n",
       "      <td>24000</td>\n",
       "      <td>77</td>\n",
       "      <td>665000</td>\n",
       "      <td>665000</td>\n",
       "      <td>152.0</td>\n",
       "      <td>2809000</td>\n",
       "      <td>2010</td>\n",
       "    </tr>\n",
       "    <tr>\n",
       "      <th>2</th>\n",
       "      <td>2</td>\n",
       "      <td>Arkansas</td>\n",
       "      <td>25000</td>\n",
       "      <td>60</td>\n",
       "      <td>360000</td>\n",
       "      <td>360000</td>\n",
       "      <td>147.0</td>\n",
       "      <td>2205000</td>\n",
       "      <td>2010</td>\n",
       "    </tr>\n",
       "    <tr>\n",
       "      <th>3</th>\n",
       "      <td>3</td>\n",
       "      <td>California</td>\n",
       "      <td>410000</td>\n",
       "      <td>67</td>\n",
       "      <td>6318000</td>\n",
       "      <td>6318000</td>\n",
       "      <td>155.0</td>\n",
       "      <td>42579000</td>\n",
       "      <td>2010</td>\n",
       "    </tr>\n",
       "    <tr>\n",
       "      <th>4</th>\n",
       "      <td>4</td>\n",
       "      <td>Colorado</td>\n",
       "      <td>34000</td>\n",
       "      <td>56</td>\n",
       "      <td>533000</td>\n",
       "      <td>533000</td>\n",
       "      <td>152.0</td>\n",
       "      <td>2894000</td>\n",
       "      <td>2010</td>\n",
       "    </tr>\n",
       "  </tbody>\n",
       "</table>\n",
       "</div>"
      ],
      "text/plain": [
       "   Unnamed: 0       state  colony_number  yield_per_colony  productions  \\\n",
       "0           0     Alabama           9000                54        73000   \n",
       "1           1     Arizona          24000                77       665000   \n",
       "2           2    Arkansas          25000                60       360000   \n",
       "3           3  California         410000                67      6318000   \n",
       "4           4    Colorado          34000                56       533000   \n",
       "\n",
       "    stocks  average_price  value_of_prod  year  \n",
       "0    73000          240.0        1166000  2010  \n",
       "1   665000          152.0        2809000  2010  \n",
       "2   360000          147.0        2205000  2010  \n",
       "3  6318000          155.0       42579000  2010  \n",
       "4   533000          152.0        2894000  2010  "
      ]
     },
     "execution_count": 3,
     "metadata": {},
     "output_type": "execute_result"
    }
   ],
   "source": [
    "honey_production.head()\n"
   ]
  },
  {
   "cell_type": "code",
   "execution_count": 4,
   "metadata": {},
   "outputs": [
    {
     "name": "stdout",
     "output_type": "stream",
     "text": [
      "<class 'pandas.core.frame.DataFrame'>\n",
      "RangeIndex: 479 entries, 0 to 478\n",
      "Data columns (total 9 columns):\n",
      " #   Column            Non-Null Count  Dtype  \n",
      "---  ------            --------------  -----  \n",
      " 0   Unnamed: 0        479 non-null    int64  \n",
      " 1   state             479 non-null    object \n",
      " 2   colony_number     479 non-null    int64  \n",
      " 3   yield_per_colony  479 non-null    int64  \n",
      " 4   productions       479 non-null    int64  \n",
      " 5   stocks            479 non-null    int64  \n",
      " 6   average_price     479 non-null    float64\n",
      " 7   value_of_prod     479 non-null    int64  \n",
      " 8   year              479 non-null    int64  \n",
      "dtypes: float64(1), int64(7), object(1)\n",
      "memory usage: 33.8+ KB\n"
     ]
    }
   ],
   "source": [
    "honey_production.info()"
   ]
  },
  {
   "cell_type": "code",
   "execution_count": 5,
   "metadata": {},
   "outputs": [
    {
     "data": {
      "text/plain": [
       "(479, 9)"
      ]
     },
     "execution_count": 5,
     "metadata": {},
     "output_type": "execute_result"
    }
   ],
   "source": [
    "honey_production.shape"
   ]
  },
  {
   "cell_type": "code",
   "execution_count": 6,
   "metadata": {},
   "outputs": [
    {
     "data": {
      "text/plain": [
       "2010    40\n",
       "2011    40\n",
       "2012    40\n",
       "2014    40\n",
       "2015    40\n",
       "2016    40\n",
       "2017    40\n",
       "2018    40\n",
       "2019    40\n",
       "2020    40\n",
       "2021    40\n",
       "2013    39\n",
       "Name: year, dtype: int64"
      ]
     },
     "execution_count": 6,
     "metadata": {},
     "output_type": "execute_result"
    }
   ],
   "source": [
    "year_counts = honey_production['year'].value_counts()\n",
    "year_counts"
   ]
  },
  {
   "cell_type": "code",
   "execution_count": 7,
   "metadata": {},
   "outputs": [
    {
     "name": "stdout",
     "output_type": "stream",
     "text": [
      "['Alabama' 'Arizona' 'Arkansas' 'California' 'Colorado' 'Florida'\n",
      " 'Georgia' 'Hawaii' 'Idaho' 'Illinois' 'Indiana' 'Iowa' 'Kansas'\n",
      " 'Kentucky' 'Louisiana' 'Maine' 'Michigan' 'Minnesota' 'Mississippi'\n",
      " 'Missouri' 'Montana' 'Nebraska' 'NewJersey' 'NewMexico' 'NewYork'\n",
      " 'NorthCarolina' 'NorthDakota' 'Ohio' 'Oregon' 'Pennsylvania'\n",
      " 'SouthDakota' 'Tennessee' 'Texas' 'Utah' 'Vermont' 'Virginia'\n",
      " 'Washington' 'WestVirginia' 'Wisconsin' 'Wyoming' 'SouthCarolina'] 41\n"
     ]
    }
   ],
   "source": [
    "uniqe_states = honey_production['state'].unique()\n",
    "print(uniqe_states, len(uniqe_states))"
   ]
  },
  {
   "cell_type": "code",
   "execution_count": 8,
   "metadata": {},
   "outputs": [],
   "source": [
    "df_temp = pd.read_csv('./states_avg_temp_formatted/Alabama.csv')\n",
    "\n",
    "df_merged = pd.merge(honey_production, df_temp, on='year')\n",
    "\n",
    "df_merged['state'] = 'Alabama'\n",
    "\n",
    "df_merged = df_merged[['state', 'colony_number', 'yield_per_colony', 'productions', 'stocks', 'average_price', 'value_of_prod', 'year', 'avg_temp', 'anomaly']]\n",
    "\n",
    "df_merged.to_csv('merged_data.csv', index=False)"
   ]
  },
  {
   "cell_type": "code",
   "execution_count": 9,
   "metadata": {},
   "outputs": [],
   "source": [
    "import os\n",
    "df_merged = pd.DataFrame()\n",
    "\n",
    "for filename in os.listdir('./states_avg_temp_formatted'):\n",
    "    if filename.endswith('.csv'):\n",
    "        state = filename.split('.')[0].replace(' ', '')\n",
    "        df_temp = pd.read_csv(f'./states_avg_temp_formatted/{filename}')\n",
    "        df_temp_merged = pd.merge(honey_production[honey_production['state'] == state], df_temp, on='year')\n",
    "        df_merged = pd.concat([df_merged, df_temp_merged], ignore_index=True)\n",
    "\n",
    "df_merged.to_csv('merged_data.csv', index=False)"
   ]
  },
  {
   "cell_type": "code",
   "execution_count": 10,
   "metadata": {},
   "outputs": [
    {
     "data": {
      "text/plain": [
       "2010    39\n",
       "2011    39\n",
       "2012    39\n",
       "2014    39\n",
       "2015    39\n",
       "2016    39\n",
       "2017    39\n",
       "2018    39\n",
       "2019    39\n",
       "2020    39\n",
       "2021    39\n",
       "2013    38\n",
       "Name: year, dtype: int64"
      ]
     },
     "execution_count": 10,
     "metadata": {},
     "output_type": "execute_result"
    }
   ],
   "source": [
    "df_merged = pd.read_csv('merged_data.csv')\n",
    "year_counts = df_merged['year'].value_counts()\n",
    "year_counts"
   ]
  },
  {
   "cell_type": "code",
   "execution_count": 11,
   "metadata": {},
   "outputs": [
    {
     "name": "stdout",
     "output_type": "stream",
     "text": [
      "Missing states: ['Hawaii']\n"
     ]
    }
   ],
   "source": [
    "states_honey = honey_production['state'].unique().tolist()\n",
    "\n",
    "states_merged = df_merged['state'].unique().tolist()\n",
    "\n",
    "missing_states = set(states_honey) - set(states_merged)\n",
    "\n",
    "print('Missing states:', list(missing_states))"
   ]
  },
  {
   "cell_type": "code",
   "execution_count": 12,
   "metadata": {},
   "outputs": [],
   "source": [
    "df_merged2 = pd.DataFrame()\n",
    "\n",
    "for filename in os.listdir('./states_avg_precipitation_formatted'):\n",
    "    if filename.endswith('.csv'):\n",
    "        state = filename.split('.')[0].replace(' ', '')\n",
    "        df_precipitation = pd.read_csv(f'./states_avg_precipitation_formatted/{filename}')\n",
    "        df_precipitation_merged = pd.merge(df_merged[df_merged['state'] == state], df_precipitation, on='year')\n",
    "        df_merged2 = pd.concat([df_merged2, df_precipitation_merged], ignore_index=True)\n",
    "\n",
    "df_merged2.to_csv('merged_data2.csv', index=False)"
   ]
  },
  {
   "cell_type": "code",
   "execution_count": 13,
   "metadata": {},
   "outputs": [
    {
     "data": {
      "text/plain": [
       "2010    39\n",
       "2011    39\n",
       "2012    39\n",
       "2014    39\n",
       "2015    39\n",
       "2016    39\n",
       "2017    39\n",
       "2018    39\n",
       "2019    39\n",
       "2020    39\n",
       "2021    39\n",
       "2013    38\n",
       "Name: year, dtype: int64"
      ]
     },
     "execution_count": 13,
     "metadata": {},
     "output_type": "execute_result"
    }
   ],
   "source": [
    "\n",
    "year_counts = df_merged2['year'].value_counts()\n",
    "year_counts"
   ]
  },
  {
   "cell_type": "code",
   "execution_count": 14,
   "metadata": {},
   "outputs": [
    {
     "name": "stdout",
     "output_type": "stream",
     "text": [
      "Number of rows with missing precipitation data: 0\n"
     ]
    }
   ],
   "source": [
    "missing_precipitation = df_merged2[df_merged2['precipitation'].isna()]\n",
    "print('Number of rows with missing precipitation data:', missing_precipitation.shape[0])"
   ]
  },
  {
   "cell_type": "code",
   "execution_count": 15,
   "metadata": {},
   "outputs": [],
   "source": [
    "df_merged3 = df_merged2.drop(columns=['Unnamed: 0', 'state', 'colony_number', 'yield_per_colony', 'stocks', 'average_price', 'value_of_prod', 'year'])\n",
    "\n",
    "df_merged3 = df_merged3.rename(columns={'anomaly': 'temp_anomaly'})\n",
    "\n",
    "df_merged3.to_csv('final.csv', index=False)"
   ]
  }
 ],
 "metadata": {
  "kernelspec": {
   "display_name": "Python 3",
   "language": "python",
   "name": "python3"
  },
  "language_info": {
   "codemirror_mode": {
    "name": "ipython",
    "version": 3
   },
   "file_extension": ".py",
   "mimetype": "text/x-python",
   "name": "python",
   "nbconvert_exporter": "python",
   "pygments_lexer": "ipython3",
   "version": "3.11.2"
  },
  "orig_nbformat": 4
 },
 "nbformat": 4,
 "nbformat_minor": 2
}
