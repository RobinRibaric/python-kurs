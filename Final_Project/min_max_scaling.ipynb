{
 "cells": [
  {
   "cell_type": "code",
   "execution_count": 1,
   "metadata": {},
   "outputs": [],
   "source": [
    "from sklearn.preprocessing import MinMaxScaler\n",
    "import numpy as np\n",
    "import pandas as pd\n",
    "\n",
    "df = pd.read_csv('./final_data.csv')\n",
    "\n",
    "scaler = MinMaxScaler()\n",
    "\n",
    "df_min_max = df.copy()\n",
    "\n",
    "numerical_cols = [\"avg_temp\", \"precipitation\", \"production\"]\n",
    "df_min_max[numerical_cols] = scaler.fit_transform(df_min_max[numerical_cols])"
   ]
  },
  {
   "cell_type": "code",
   "execution_count": 2,
   "metadata": {},
   "outputs": [],
   "source": [
    "state_dummies = pd.get_dummies(df_min_max['state'])\n",
    "\n",
    "df_min_max = pd.concat([df_min_max, state_dummies], axis=1)\n",
    "\n",
    "df_min_max = df_min_max.drop(columns=['state'])"
   ]
  },
  {
   "cell_type": "code",
   "execution_count": 3,
   "metadata": {},
   "outputs": [],
   "source": [
    "df_min_max.to_csv('min_max.csv', index=False)"
   ]
  }
 ],
 "metadata": {
  "kernelspec": {
   "display_name": "Python 3",
   "language": "python",
   "name": "python3"
  },
  "language_info": {
   "codemirror_mode": {
    "name": "ipython",
    "version": 3
   },
   "file_extension": ".py",
   "mimetype": "text/x-python",
   "name": "python",
   "nbconvert_exporter": "python",
   "pygments_lexer": "ipython3",
   "version": "3.11.1"
  },
  "orig_nbformat": 4
 },
 "nbformat": 4,
 "nbformat_minor": 2
}
