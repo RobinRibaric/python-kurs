{
 "cells": [
  {
   "cell_type": "code",
   "execution_count": null,
   "metadata": {},
   "outputs": [],
   "source": [
    "import numpy as np\n",
    "import pandas as pd\n",
    "\n",
    "\n",
    "df_merged3 = pd.read_csv('./final_data.csv')\n",
    "\n",
    "df_log_min_max = df_merged3.copy()\n",
    "\n",
    "state_dummies = pd.get_dummies(df_log_min_max['state'])\n",
    "df_log_min_max = pd.concat([df_log_min_max, state_dummies], axis=1)\n",
    "df_log_min_max = df_log_min_max.drop(columns=['state'])\n",
    "\n",
    "numerical_cols = [\"avg_temp\", \"precipitation\"]\n",
    "df_log_min_max[numerical_cols] = scaler.fit_transform(df_log_min_max[numerical_cols])\n",
    "\n",
    "log_productions = np.log(df_log_min_max['production'])\n",
    "df_log_min_max['production'] = log_productions\n",
    "\n",
    "print(df_log_min_max['production'])\n",
    "\n",
    "df_log_min_max.to_csv('log_min_max.csv', index=False)\n",
    "\n",
    "\n",
    "print(df_log_min_max.head)\n",
    "\n",
    "\"\"\" print(df_merged3['productions'].describe())\n",
    "print(df_merged3['productions'])\n",
    "data_range = np.ptp(df_merged3['productions'])\n",
    "log_productions = np.log(df_merged3['productions'])\n",
    "df_log_min_max['productions'] = log_productions\n",
    "print('Range of honey production:', data_range)\n",
    "print(\"log\", log_productions)  \"\"\""
   ]
  }
 ],
 "metadata": {
  "language_info": {
   "name": "python"
  },
  "orig_nbformat": 4
 },
 "nbformat": 4,
 "nbformat_minor": 2
}
